{
 "metadata": {
  "name": "",
  "signature": "sha256:b5167a955e4e340a2f20d3fb38b84c265503c9010c00f0b2b26b4719002dc90a"
 },
 "nbformat": 3,
 "nbformat_minor": 0,
 "worksheets": [
  {
   "cells": [
    {
     "cell_type": "heading",
     "level": 1,
     "metadata": {},
     "source": [
      "AstroPy: Tables"
     ]
    },
    {
     "cell_type": "markdown",
     "metadata": {},
     "source": [
      "The astropy [Table](http://docs.astropy.org/en/stable/table/index.html) class provides an extension of NumPy structured arrays for storing and manipulating heterogeneous tables of data. A few notable features of this package are:\n",
      "\n",
      "For more information about the features presented below, you can read the\n",
      "[astropy.table](http://docs.astropy.org/en/stable/table/index.html) docs.\n",
      "\n"
     ]
    },
    {
     "cell_type": "code",
     "collapsed": false,
     "input": [
      "from astropy.table import Table\n",
      "import numpy as np"
     ],
     "language": "python",
     "metadata": {},
     "outputs": [],
     "prompt_number": 1
    },
    {
     "cell_type": "markdown",
     "metadata": {},
     "source": [
      "Creating tables\n",
      "---------------\n",
      "\n",
      "There is great deal of flexibility in the way that a table can be initially constructed:\n",
      "\n",
      "- Read an existing table from a file or web URL\n",
      "- Add columns of data one by one\n",
      "- Add rows of data one by one\n",
      "- From an existing data structure in memory (e.g. a list of dictionaries)\n",
      "  \n",
      "See the documentation section on [Constructing a table](http://astropy.readthedocs.org/en/stable/table/construct_table.html) for the gory details and plenty of examples."
     ]
    },
    {
     "cell_type": "code",
     "collapsed": false,
     "input": [
      "t = Table()\n",
      "t['name'] = ['source 1', 'source 2', 'source 3', 'source 4']\n",
      "t['flux'] = [1.2, 2.2, 3.1, 4.3]"
     ],
     "language": "python",
     "metadata": {},
     "outputs": [],
     "prompt_number": 38
    },
    {
     "cell_type": "markdown",
     "metadata": {},
     "source": [
      "### Looking at your table\n",
      "\n",
      "t.pprint() shows a nice representation of the table:"
     ]
    },
    {
     "cell_type": "code",
     "collapsed": false,
     "input": [
      "t.pprint()"
     ],
     "language": "python",
     "metadata": {},
     "outputs": [
      {
       "output_type": "stream",
       "stream": "stdout",
       "text": [
        "\u001b[0;31m  name   flux\u001b[0m\n",
        "\u001b[0;31m-------- ----\u001b[0m\n",
        "source 1  1.2\n",
        "source 2  2.2\n",
        "source 3  3.1\n",
        "source 4  4.3\n"
       ]
      }
     ],
     "prompt_number": 39
    },
    {
     "cell_type": "markdown",
     "metadata": {},
     "source": [
      "To get the table column names and data types using the `colnames` and `dtype` properties:"
     ]
    },
    {
     "cell_type": "code",
     "collapsed": false,
     "input": [
      "t.colnames"
     ],
     "language": "python",
     "metadata": {},
     "outputs": [
      {
       "metadata": {},
       "output_type": "pyout",
       "prompt_number": 40,
       "text": [
        "['name', 'flux']"
       ]
      }
     ],
     "prompt_number": 40
    },
    {
     "cell_type": "code",
     "collapsed": false,
     "input": [
      "t.dtype"
     ],
     "language": "python",
     "metadata": {},
     "outputs": [
      {
       "metadata": {},
       "output_type": "pyout",
       "prompt_number": 41,
       "text": [
        "dtype([('name', 'S8'), ('flux', '<f8')])"
       ]
      }
     ],
     "prompt_number": 41
    },
    {
     "cell_type": "markdown",
     "metadata": {},
     "source": [
      "### Accessing parts of the table\n",
      "\n",
      "We can access the columns and rows by name and number.  Notice that the outputs are `Column`, `Row` or `Table` objects depending on the context."
     ]
    },
    {
     "cell_type": "code",
     "collapsed": false,
     "input": [
      "t['flux']  # Flux column (notice meta attributes)"
     ],
     "language": "python",
     "metadata": {},
     "outputs": [
      {
       "metadata": {},
       "output_type": "pyout",
       "prompt_number": 42,
       "text": [
        "<Column name='flux' unit=None format=None description=None>\n",
        "array([ 1.2,  2.2,  3.1,  4.3])"
       ]
      }
     ],
     "prompt_number": 42
    },
    {
     "cell_type": "code",
     "collapsed": false,
     "input": [
      "t['flux'][1]  # Row 1 of flux column"
     ],
     "language": "python",
     "metadata": {},
     "outputs": [
      {
       "metadata": {},
       "output_type": "pyout",
       "prompt_number": 43,
       "text": [
        "2.2000000000000002"
       ]
      }
     ],
     "prompt_number": 43
    },
    {
     "cell_type": "code",
     "collapsed": false,
     "input": [
      "t[1]  # Row obj for with row 1 values"
     ],
     "language": "python",
     "metadata": {},
     "outputs": [
      {
       "metadata": {},
       "output_type": "pyout",
       "prompt_number": 44,
       "text": [
        "<Row 1 of table\n",
        " values=('source 2', 2.2)\n",
        " dtype=[('name', 'S8'), ('flux', '<f8')]>"
       ]
      }
     ],
     "prompt_number": 44
    },
    {
     "cell_type": "code",
     "collapsed": false,
     "input": [
      "t[1]['flux']  # Flux column of row 1"
     ],
     "language": "python",
     "metadata": {},
     "outputs": [
      {
       "metadata": {},
       "output_type": "pyout",
       "prompt_number": 45,
       "text": [
        "2.2000000000000002"
       ]
      }
     ],
     "prompt_number": 45
    },
    {
     "cell_type": "code",
     "collapsed": false,
     "input": [
      "t[1:3]  # 2nd and 3rd rows in a new table"
     ],
     "language": "python",
     "metadata": {},
     "outputs": [
      {
       "html": [
        "<table id=\"table140684556567248\"><thead><tr><th>name</th><th>flux</th></tr></thead><tr><td>source 2</td><td>2.2</td></tr><tr><td>source 3</td><td>3.1</td></tr></table>"
       ],
       "metadata": {},
       "output_type": "pyout",
       "prompt_number": 46,
       "text": [
        "<Table rows=2 names=('name','flux')>\n",
        "array([('source 2', 2.2), ('source 3', 3.1)], \n",
        "      dtype=[('name', 'S8'), ('flux', '<f8')])"
       ]
      }
     ],
     "prompt_number": 46
    },
    {
     "cell_type": "code",
     "collapsed": false,
     "input": [
      "t[[1, 3]]"
     ],
     "language": "python",
     "metadata": {},
     "outputs": [
      {
       "html": [
        "<table id=\"table140684556569360\"><thead><tr><th>name</th><th>flux</th></tr></thead><tr><td>source 2</td><td>2.2</td></tr><tr><td>source 4</td><td>4.3</td></tr></table>"
       ],
       "metadata": {},
       "output_type": "pyout",
       "prompt_number": 47,
       "text": [
        "<Table rows=2 names=('name','flux')>\n",
        "array([('source 2', 2.2), ('source 4', 4.3)], \n",
        "      dtype=[('name', 'S8'), ('flux', '<f8')])"
       ]
      }
     ],
     "prompt_number": 47
    },
    {
     "cell_type": "markdown",
     "metadata": {},
     "source": [
      "**One of the most powerful concepts is using boolean selection masks to filter tables**"
     ]
    },
    {
     "cell_type": "code",
     "collapsed": false,
     "input": [
      "mask = t['flux'] > 3.0  # Define boolean mask for all flux values > 3\n",
      "t[mask]  # Create a new table with only the \"high flux\" sources"
     ],
     "language": "python",
     "metadata": {},
     "outputs": [
      {
       "html": [
        "<table id=\"table140684553647632\"><thead><tr><th>name</th><th>flux</th></tr></thead><tr><td>source 3</td><td>3.1</td></tr><tr><td>source 4</td><td>4.3</td></tr></table>"
       ],
       "metadata": {},
       "output_type": "pyout",
       "prompt_number": 48,
       "text": [
        "<Table rows=2 names=('name','flux')>\n",
        "array([('source 3', 3.1), ('source 4', 4.3)], \n",
        "      dtype=[('name', 'S8'), ('flux', '<f8')])"
       ]
      }
     ],
     "prompt_number": 48
    },
    {
     "cell_type": "markdown",
     "metadata": {},
     "source": [
      "### Modifying the table\n",
      "\n",
      "Once the table exists with defined columns there are a number of ways to modify the table in place.  These are fully documented in the section [Modifying a Table](http://astropy.readthedocs.org/en/stable/table/modify_table.html#modifying-a-table).\n",
      "\n",
      "To give a couple of simple examples, you can add rows with the [add_row()](http://astropy.readthedocs.org/en/stable/api/astropy.table.table.Table.html#astropy.table.table.Table.add_row) method or add new columns using dict-style assignment:"
     ]
    },
    {
     "cell_type": "code",
     "collapsed": false,
     "input": [
      "t.add_row(('source 5', 10.1))  # Add a new source at the end\n",
      "t['logflux'] = np.log10(t['flux'])  # Compute the log10 of the flux\n",
      "t"
     ],
     "language": "python",
     "metadata": {},
     "outputs": [
      {
       "html": [
        "<table id=\"table140684553647568\"><thead><tr><th>name</th><th>flux</th><th>logflux</th></tr></thead><tr><td>source 1</td><td>1.2</td><td>0.0791812460476</td></tr><tr><td>source 2</td><td>2.2</td><td>0.342422680822</td></tr><tr><td>source 3</td><td>3.1</td><td>0.491361693834</td></tr><tr><td>source 4</td><td>4.3</td><td>0.63346845558</td></tr><tr><td>source 5</td><td>10.1</td><td>1.00432137378</td></tr></table>"
       ],
       "metadata": {},
       "output_type": "pyout",
       "prompt_number": 49,
       "text": [
        "<Table rows=5 names=('name','flux','logflux')>\n",
        "array([('source 1', 1.2, 0.07918124604762482),\n",
        "       ('source 2', 2.2, 0.3424226808222063),\n",
        "       ('source 3', 3.1, 0.4913616938342727),\n",
        "       ('source 4', 4.3, 0.6334684555795865),\n",
        "       ('source 5', 10.1, 1.0043213737826426)], \n",
        "      dtype=[('name', 'S8'), ('flux', '<f8'), ('logflux', '<f8')])"
       ]
      }
     ],
     "prompt_number": 49
    },
    {
     "cell_type": "markdown",
     "metadata": {},
     "source": [
      "Notice that the `logflux` column really has too many output digits given the precision of the input values.  We can fix this by setting the format using normal Python formatting syntax:"
     ]
    },
    {
     "cell_type": "code",
     "collapsed": false,
     "input": [
      "t['flux'].format = '%.2f'\n",
      "t['logflux'].format = '%.2f'\n",
      "t"
     ],
     "language": "python",
     "metadata": {},
     "outputs": [
      {
       "html": [
        "<table id=\"table140684553647568\"><thead><tr><th>name</th><th>flux</th><th>logflux</th></tr></thead><tr><td>source 1</td><td>1.20</td><td>0.08</td></tr><tr><td>source 2</td><td>2.20</td><td>0.34</td></tr><tr><td>source 3</td><td>3.10</td><td>0.49</td></tr><tr><td>source 4</td><td>4.30</td><td>0.63</td></tr><tr><td>source 5</td><td>10.10</td><td>1.00</td></tr></table>"
       ],
       "metadata": {},
       "output_type": "pyout",
       "prompt_number": 50,
       "text": [
        "<Table rows=5 names=('name','flux','logflux')>\n",
        "array([('source 1', 1.2, 0.07918124604762482),\n",
        "       ('source 2', 2.2, 0.3424226808222063),\n",
        "       ('source 3', 3.1, 0.4913616938342727),\n",
        "       ('source 4', 4.3, 0.6334684555795865),\n",
        "       ('source 5', 10.1, 1.0043213737826426)], \n",
        "      dtype=[('name', 'S8'), ('flux', '<f8'), ('logflux', '<f8')])"
       ]
      }
     ],
     "prompt_number": 50
    },
    {
     "cell_type": "markdown",
     "metadata": {},
     "source": [
      "### Converting the table to numpy\n",
      "\n",
      "Sometimes you may not want or be able to use a `Table` object and prefer to work with a plain numpy array.  This is easily done by passing the table to the `np.array()` constructor.  This makes a copy of the data."
     ]
    },
    {
     "cell_type": "code",
     "collapsed": false,
     "input": [
      "np.array(t)"
     ],
     "language": "python",
     "metadata": {},
     "outputs": [
      {
       "metadata": {},
       "output_type": "pyout",
       "prompt_number": 51,
       "text": [
        "array([('source 1', 1.2, 0.07918124604762482),\n",
        "       ('source 2', 2.2, 0.3424226808222063),\n",
        "       ('source 3', 3.1, 0.4913616938342727),\n",
        "       ('source 4', 4.3, 0.6334684555795865),\n",
        "       ('source 5', 10.1, 1.0043213737826426)], \n",
        "      dtype=[('name', 'S8'), ('flux', '<f8'), ('logflux', '<f8')])"
       ]
      }
     ],
     "prompt_number": 51
    },
    {
     "cell_type": "markdown",
     "metadata": {},
     "source": [
      "Masked tables\n",
      "-------------"
     ]
    },
    {
     "cell_type": "code",
     "collapsed": false,
     "input": [
      "t2 = Table([['x', 'y', 'z'], \n",
      "            [1.1, 2.2, 3.3]],\n",
      "           names=['name', 'value'],\n",
      "           masked=True)\n",
      "print t2"
     ],
     "language": "python",
     "metadata": {},
     "outputs": [
      {
       "output_type": "stream",
       "stream": "stdout",
       "text": [
        "name value\n",
        "---- -----\n",
        "   x   1.1\n",
        "   y   2.2\n",
        "   z   3.3\n"
       ]
      }
     ],
     "prompt_number": 52
    },
    {
     "cell_type": "code",
     "collapsed": false,
     "input": [
      "t2['value'].mask = [False, True, False]"
     ],
     "language": "python",
     "metadata": {},
     "outputs": [],
     "prompt_number": 53
    },
    {
     "cell_type": "code",
     "collapsed": false,
     "input": [
      "print t2"
     ],
     "language": "python",
     "metadata": {},
     "outputs": [
      {
       "output_type": "stream",
       "stream": "stdout",
       "text": [
        "name value\n",
        "---- -----\n",
        "   x   1.1\n",
        "   y    --\n",
        "   z   3.3\n"
       ]
      }
     ],
     "prompt_number": 54
    },
    {
     "cell_type": "code",
     "collapsed": false,
     "input": [
      "t2['value'].fill_value = -99\n",
      "print t2.filled()"
     ],
     "language": "python",
     "metadata": {},
     "outputs": [
      {
       "output_type": "stream",
       "stream": "stdout",
       "text": [
        "name value\n",
        "---- -----\n",
        "   x   1.1\n",
        "   y -99.0\n",
        "   z   3.3\n"
       ]
      }
     ],
     "prompt_number": 55
    },
    {
     "cell_type": "markdown",
     "metadata": {},
     "source": [
      "High-level table operations\n",
      "----------------------------\n",
      "\n",
      "So far we've just worked with one table at a time and viewed that table as a monolithic entity.  Astropy also supports high-level [Table operations](http://astropy.readthedocs.org/en/stable/table/operations.html) that manipulate multiple tables or view one table as a collection of sub-tables (groups).\n",
      "\n",
      " Documentation\t                                                                         | Description\n",
      "---------------------------------------------------------------------------------------- |-----------------------------------------\n",
      "[Grouped operations](http://astropy.readthedocs.org/en/stable/table/operations.html#id2) | Group tables and columns by keys\n",
      "[Stack vertically](http://astropy.readthedocs.org/en/stable/table/operations.html#id3)   | Concatenate input tables along rows\n",
      "[Stack horizontally](http://astropy.readthedocs.org/en/stable/table/operations.html#id4) | Concatenate input tables along columns\n",
      "[Join](http://astropy.readthedocs.org/en/stable/table/operations.html#join)              | Database-style join of two tables\n",
      "\n",
      "Here we'll just introduce the join operation but go into more detail on the others in the exercises."
     ]
    },
    {
     "cell_type": "code",
     "collapsed": false,
     "input": [
      "from astropy.table import join"
     ],
     "language": "python",
     "metadata": {},
     "outputs": [],
     "prompt_number": 56
    },
    {
     "cell_type": "markdown",
     "metadata": {},
     "source": [
      "Now recall our original table `t`:"
     ]
    },
    {
     "cell_type": "code",
     "collapsed": false,
     "input": [
      "print t"
     ],
     "language": "python",
     "metadata": {},
     "outputs": [
      {
       "output_type": "stream",
       "stream": "stdout",
       "text": [
        "  name    flux logflux\n",
        "-------- ----- -------\n",
        "source 1  1.20    0.08\n",
        "source 2  2.20    0.34\n",
        "source 3  3.10    0.49\n",
        "source 4  4.30    0.63\n",
        "source 5 10.10    1.00\n"
       ]
      }
     ],
     "prompt_number": 57
    },
    {
     "cell_type": "markdown",
     "metadata": {},
     "source": [
      "Now say that we now got some additional flux values from a different reference for a different, but overlapping sample of sources:"
     ]
    },
    {
     "cell_type": "code",
     "collapsed": false,
     "input": [
      "t2 = Table()\n",
      "t2['name'] = ['source 1', 'source 3', 'source 8']\n",
      "t2['flux2'] = [1.4, 3.5, 8.6]\n",
      "print t2"
     ],
     "language": "python",
     "metadata": {},
     "outputs": [
      {
       "output_type": "stream",
       "stream": "stdout",
       "text": [
        "  name   flux2\n",
        "-------- -----\n",
        "source 1   1.4\n",
        "source 3   3.5\n",
        "source 8   8.6\n"
       ]
      }
     ],
     "prompt_number": 58
    },
    {
     "cell_type": "markdown",
     "metadata": {},
     "source": [
      "Now we can get a master table of flux measurements which are joined matching the values the `name` column.  This includes every row from each of the two tables, which is known as an **`outer`** join."
     ]
    },
    {
     "cell_type": "code",
     "collapsed": false,
     "input": [
      "t3 = join(t, t2, keys=['name'], join_type='outer')\n",
      "print t3"
     ],
     "language": "python",
     "metadata": {},
     "outputs": [
      {
       "output_type": "stream",
       "stream": "stdout",
       "text": [
        "  name    flux logflux flux2\n",
        "-------- ----- ------- -----\n",
        "source 1  1.20    0.08   1.4\n",
        "source 2  2.20    0.34    --\n",
        "source 3  3.10    0.49   3.5\n",
        "source 4  4.30    0.63    --\n",
        "source 5 10.10    1.00    --\n",
        "source 8   nan     nan   8.6\n"
       ]
      }
     ],
     "prompt_number": 59
    },
    {
     "cell_type": "code",
     "collapsed": false,
     "input": [
      "np.mean(t3['flux2'])"
     ],
     "language": "python",
     "metadata": {},
     "outputs": [
      {
       "metadata": {},
       "output_type": "pyout",
       "prompt_number": 60,
       "text": [
        "4.5"
       ]
      }
     ],
     "prompt_number": 60
    },
    {
     "cell_type": "markdown",
     "metadata": {},
     "source": [
      "Alternately we could choose to keep only rows where both tables had a valid measurement using an **`inner`** join:"
     ]
    },
    {
     "cell_type": "code",
     "collapsed": false,
     "input": [
      "join(t, t2, keys=['name'], join_type='inner')"
     ],
     "language": "python",
     "metadata": {},
     "outputs": [
      {
       "html": [
        "<table id=\"table140684553648656\"><thead><tr><th>name</th><th>flux</th><th>logflux</th><th>flux2</th></tr></thead><tr><td>source 1</td><td>1.20</td><td>0.08</td><td>1.4</td></tr><tr><td>source 3</td><td>3.10</td><td>0.49</td><td>3.5</td></tr></table>"
       ],
       "metadata": {},
       "output_type": "pyout",
       "prompt_number": 61,
       "text": [
        "<Table rows=2 names=('name','flux','logflux','flux2')>\n",
        "array([('source 1', 1.2, 0.07918124604762482, 1.4),\n",
        "       ('source 3', 3.1, 0.4913616938342727, 3.5)], \n",
        "      dtype=[('name', 'S8'), ('flux', '<f8'), ('logflux', '<f8'), ('flux2', '<f8')])"
       ]
      }
     ],
     "prompt_number": 61
    },
    {
     "cell_type": "markdown",
     "metadata": {},
     "source": [
      "Writing data\n",
      "------------"
     ]
    },
    {
     "cell_type": "code",
     "collapsed": false,
     "input": [
      "t3.write('test.fits', overwrite=True)"
     ],
     "language": "python",
     "metadata": {},
     "outputs": [],
     "prompt_number": 68
    },
    {
     "cell_type": "code",
     "collapsed": false,
     "input": [
      "t3.write('test.txt', format='ascii')"
     ],
     "language": "python",
     "metadata": {},
     "outputs": [],
     "prompt_number": 66
    },
    {
     "cell_type": "markdown",
     "metadata": {},
     "source": [
      "Reading data\n",
      "------------\n",
      "\n",
      "You can read data using the [Table.read()](http://astropy.readthedocs.org/en/stable/api/astropy.table.table.Table.html#astropy.table.table.Table.read) method:"
     ]
    },
    {
     "cell_type": "code",
     "collapsed": false,
     "input": [
      "t4 = Table.read('test.fits')\n",
      "t4"
     ],
     "language": "python",
     "metadata": {},
     "outputs": [
      {
       "html": [
        "<table id=\"table140684552319952\"><thead><tr><th>name</th><th>flux</th><th>logflux</th><th>flux2</th></tr></thead><tr><td>source 1</td><td>1.2</td><td>0.0791812460476</td><td>1.4</td></tr><tr><td>source 2</td><td>2.2</td><td>0.342422680822</td><td>nan</td></tr><tr><td>source 3</td><td>3.1</td><td>0.491361693834</td><td>3.5</td></tr><tr><td>source 4</td><td>4.3</td><td>0.63346845558</td><td>nan</td></tr><tr><td>source 5</td><td>10.1</td><td>1.00432137378</td><td>nan</td></tr><tr><td>source 8</td><td>nan</td><td>nan</td><td>8.6</td></tr></table>"
       ],
       "metadata": {},
       "output_type": "pyout",
       "prompt_number": 69,
       "text": [
        "<Table rows=6 names=('name','flux','logflux','flux2')>\n",
        "array([('source 1', 1.2, 0.07918124604762482, 1.4),\n",
        "       ('source 2', 2.2, 0.3424226808222063, nan),\n",
        "       ('source 3', 3.1, 0.4913616938342727, 3.5),\n",
        "       ('source 4', 4.3, 0.6334684555795865, nan),\n",
        "       ('source 5', 10.1, 1.0043213737826426, nan),\n",
        "       ('source 8', nan, nan, 8.6)], \n",
        "      dtype=[('name', 'S8'), ('flux', '>f8'), ('logflux', '>f8'), ('flux2', '>f8')])"
       ]
      }
     ],
     "prompt_number": 69
    }
   ],
   "metadata": {}
  }
 ]
}