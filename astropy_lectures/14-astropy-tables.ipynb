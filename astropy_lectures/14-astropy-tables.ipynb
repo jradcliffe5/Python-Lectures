{
 "cells": [
  {
   "cell_type": "markdown",
   "metadata": {},
   "source": [
    "# AstroPy: Tables"
   ]
  },
  {
   "cell_type": "markdown",
   "metadata": {},
   "source": [
    "The astropy [Table](http://docs.astropy.org/en/stable/table/index.html) class provides an extension of NumPy structured arrays for storing and manipulating heterogeneous tables of data. A few notable features of this package are:\n",
    "\n",
    "For more information about the features presented below, you can read the\n",
    "[astropy.table](http://docs.astropy.org/en/stable/table/index.html) docs.\n",
    "\n"
   ]
  },
  {
   "cell_type": "code",
   "execution_count": 1,
   "metadata": {},
   "outputs": [],
   "source": [
    "from astropy.table import Table\n",
    "import numpy as np"
   ]
  },
  {
   "cell_type": "markdown",
   "metadata": {},
   "source": [
    "Creating tables\n",
    "---------------\n",
    "\n",
    "There is great deal of flexibility in the way that a table can be initially constructed:\n",
    "\n",
    "- Read an existing table from a file or web URL\n",
    "- Add columns of data one by one\n",
    "- Add rows of data one by one\n",
    "- From an existing data structure in memory (e.g. a list of dictionaries)\n",
    "  \n",
    "See the documentation section on [Constructing a table](http://astropy.readthedocs.org/en/stable/table/construct_table.html) for the gory details and plenty of examples."
   ]
  },
  {
   "cell_type": "code",
   "execution_count": 2,
   "metadata": {},
   "outputs": [],
   "source": [
    "t = Table()\n",
    "t['name'] = ['source 1', 'source 2', 'source 3', 'source 4']\n",
    "t['flux'] = [1.2, 2.2, 3.1, 4.3]"
   ]
  },
  {
   "cell_type": "markdown",
   "metadata": {},
   "source": [
    "### Looking at your table\n",
    "\n",
    "t.pprint() shows a nice representation of the table:"
   ]
  },
  {
   "cell_type": "code",
   "execution_count": 3,
   "metadata": {},
   "outputs": [
    {
     "name": "stdout",
     "output_type": "stream",
     "text": [
      "  name   flux\n",
      "-------- ----\n",
      "source 1  1.2\n",
      "source 2  2.2\n",
      "source 3  3.1\n",
      "source 4  4.3\n"
     ]
    }
   ],
   "source": [
    "t.pprint()"
   ]
  },
  {
   "cell_type": "markdown",
   "metadata": {},
   "source": [
    "To get the table column names and data types using the `colnames` and `dtype` properties:"
   ]
  },
  {
   "cell_type": "code",
   "execution_count": 4,
   "metadata": {},
   "outputs": [
    {
     "data": {
      "text/plain": [
       "['name', 'flux']"
      ]
     },
     "execution_count": 4,
     "metadata": {},
     "output_type": "execute_result"
    }
   ],
   "source": [
    "t.colnames"
   ]
  },
  {
   "cell_type": "code",
   "execution_count": 5,
   "metadata": {},
   "outputs": [
    {
     "data": {
      "text/plain": [
       "dtype([('name', 'S8'), ('flux', '<f8')])"
      ]
     },
     "execution_count": 5,
     "metadata": {},
     "output_type": "execute_result"
    }
   ],
   "source": [
    "t.dtype"
   ]
  },
  {
   "cell_type": "markdown",
   "metadata": {},
   "source": [
    "### Accessing parts of the table\n",
    "\n",
    "We can access the columns and rows by name and number.  Notice that the outputs are `Column`, `Row` or `Table` objects depending on the context."
   ]
  },
  {
   "cell_type": "code",
   "execution_count": 6,
   "metadata": {},
   "outputs": [
    {
     "data": {
      "text/html": [
       "&lt;Column name=&apos;flux&apos; dtype=&apos;float64&apos; length=4&gt;\n",
       "<table>\n",
       "<tr><td>1.2</td></tr>\n",
       "<tr><td>2.2</td></tr>\n",
       "<tr><td>3.1</td></tr>\n",
       "<tr><td>4.3</td></tr>\n",
       "</table>"
      ],
      "text/plain": [
       "<Column name='flux' dtype='float64' length=4>\n",
       "1.2\n",
       "2.2\n",
       "3.1\n",
       "4.3"
      ]
     },
     "execution_count": 6,
     "metadata": {},
     "output_type": "execute_result"
    }
   ],
   "source": [
    "t['flux']  # Flux column (notice meta attributes)"
   ]
  },
  {
   "cell_type": "code",
   "execution_count": 7,
   "metadata": {},
   "outputs": [
    {
     "data": {
      "text/plain": [
       "2.2000000000000002"
      ]
     },
     "execution_count": 7,
     "metadata": {},
     "output_type": "execute_result"
    }
   ],
   "source": [
    "t['flux'][1]  # Row 1 of flux column"
   ]
  },
  {
   "cell_type": "code",
   "execution_count": 8,
   "metadata": {},
   "outputs": [
    {
     "data": {
      "text/html": [
       "&lt;Row index=1&gt;\n",
       "<table id=\"table4483604880\">\n",
       "<thead><tr><th>name</th><th>flux</th></tr></thead>\n",
       "<thead><tr><th>str8</th><th>float64</th></tr></thead>\n",
       "<tr><td>source 2</td><td>2.2</td></tr>\n",
       "</table>"
      ],
      "text/plain": [
       "<Row index=1>\n",
       "  name     flux \n",
       "  str8   float64\n",
       "-------- -------\n",
       "source 2     2.2"
      ]
     },
     "execution_count": 8,
     "metadata": {},
     "output_type": "execute_result"
    }
   ],
   "source": [
    "t[1]  # Row obj for with row 1 values"
   ]
  },
  {
   "cell_type": "code",
   "execution_count": 9,
   "metadata": {},
   "outputs": [
    {
     "data": {
      "text/plain": [
       "2.2000000000000002"
      ]
     },
     "execution_count": 9,
     "metadata": {},
     "output_type": "execute_result"
    }
   ],
   "source": [
    "t[1]['flux']  # Flux column of row 1"
   ]
  },
  {
   "cell_type": "code",
   "execution_count": 10,
   "metadata": {},
   "outputs": [
    {
     "data": {
      "text/html": [
       "&lt;Table length=2&gt;\n",
       "<table id=\"table4483605520\" class=\"table-striped table-bordered table-condensed\">\n",
       "<thead><tr><th>name</th><th>flux</th></tr></thead>\n",
       "<thead><tr><th>str8</th><th>float64</th></tr></thead>\n",
       "<tr><td>source 2</td><td>2.2</td></tr>\n",
       "<tr><td>source 3</td><td>3.1</td></tr>\n",
       "</table>"
      ],
      "text/plain": [
       "<Table length=2>\n",
       "  name     flux \n",
       "  str8   float64\n",
       "-------- -------\n",
       "source 2     2.2\n",
       "source 3     3.1"
      ]
     },
     "execution_count": 10,
     "metadata": {},
     "output_type": "execute_result"
    }
   ],
   "source": [
    "t[1:3]  # 2nd and 3rd rows in a new table"
   ]
  },
  {
   "cell_type": "code",
   "execution_count": 11,
   "metadata": {},
   "outputs": [
    {
     "data": {
      "text/html": [
       "&lt;Table length=2&gt;\n",
       "<table id=\"table4483605648\" class=\"table-striped table-bordered table-condensed\">\n",
       "<thead><tr><th>name</th><th>flux</th></tr></thead>\n",
       "<thead><tr><th>str8</th><th>float64</th></tr></thead>\n",
       "<tr><td>source 2</td><td>2.2</td></tr>\n",
       "<tr><td>source 4</td><td>4.3</td></tr>\n",
       "</table>"
      ],
      "text/plain": [
       "<Table length=2>\n",
       "  name     flux \n",
       "  str8   float64\n",
       "-------- -------\n",
       "source 2     2.2\n",
       "source 4     4.3"
      ]
     },
     "execution_count": 11,
     "metadata": {},
     "output_type": "execute_result"
    }
   ],
   "source": [
    "t[[1, 3]]"
   ]
  },
  {
   "cell_type": "markdown",
   "metadata": {},
   "source": [
    "**One of the most powerful concepts is using boolean selection masks to filter tables**"
   ]
  },
  {
   "cell_type": "code",
   "execution_count": 12,
   "metadata": {},
   "outputs": [
    {
     "data": {
      "text/html": [
       "&lt;Table length=2&gt;\n",
       "<table id=\"table4483607184\" class=\"table-striped table-bordered table-condensed\">\n",
       "<thead><tr><th>name</th><th>flux</th></tr></thead>\n",
       "<thead><tr><th>str8</th><th>float64</th></tr></thead>\n",
       "<tr><td>source 3</td><td>3.1</td></tr>\n",
       "<tr><td>source 4</td><td>4.3</td></tr>\n",
       "</table>"
      ],
      "text/plain": [
       "<Table length=2>\n",
       "  name     flux \n",
       "  str8   float64\n",
       "-------- -------\n",
       "source 3     3.1\n",
       "source 4     4.3"
      ]
     },
     "execution_count": 12,
     "metadata": {},
     "output_type": "execute_result"
    }
   ],
   "source": [
    "mask = t['flux'] > 3.0  # Define boolean mask for all flux values > 3\n",
    "t[mask]  # Create a new table with only the \"high flux\" sources"
   ]
  },
  {
   "cell_type": "markdown",
   "metadata": {},
   "source": [
    "### Modifying the table\n",
    "\n",
    "Once the table exists with defined columns there are a number of ways to modify the table in place.  These are fully documented in the section [Modifying a Table](http://astropy.readthedocs.org/en/stable/table/modify_table.html#modifying-a-table).\n",
    "\n",
    "To give a couple of simple examples, you can add rows with the [add_row()](http://astropy.readthedocs.org/en/stable/api/astropy.table.table.Table.html#astropy.table.table.Table.add_row) method or add new columns using dict-style assignment:"
   ]
  },
  {
   "cell_type": "code",
   "execution_count": 13,
   "metadata": {},
   "outputs": [
    {
     "data": {
      "text/html": [
       "&lt;Table length=5&gt;\n",
       "<table id=\"table4483604880\" class=\"table-striped table-bordered table-condensed\">\n",
       "<thead><tr><th>name</th><th>flux</th><th>logflux</th></tr></thead>\n",
       "<thead><tr><th>str8</th><th>float64</th><th>float64</th></tr></thead>\n",
       "<tr><td>source 1</td><td>1.2</td><td>0.0791812460476</td></tr>\n",
       "<tr><td>source 2</td><td>2.2</td><td>0.342422680822</td></tr>\n",
       "<tr><td>source 3</td><td>3.1</td><td>0.491361693834</td></tr>\n",
       "<tr><td>source 4</td><td>4.3</td><td>0.63346845558</td></tr>\n",
       "<tr><td>source 5</td><td>10.1</td><td>1.00432137378</td></tr>\n",
       "</table>"
      ],
      "text/plain": [
       "<Table length=5>\n",
       "  name     flux      logflux    \n",
       "  str8   float64     float64    \n",
       "-------- ------- ---------------\n",
       "source 1     1.2 0.0791812460476\n",
       "source 2     2.2  0.342422680822\n",
       "source 3     3.1  0.491361693834\n",
       "source 4     4.3   0.63346845558\n",
       "source 5    10.1   1.00432137378"
      ]
     },
     "execution_count": 13,
     "metadata": {},
     "output_type": "execute_result"
    }
   ],
   "source": [
    "t.add_row(('source 5', 10.1))  # Add a new source at the end\n",
    "t['logflux'] = np.log10(t['flux'])  # Compute the log10 of the flux\n",
    "t"
   ]
  },
  {
   "cell_type": "markdown",
   "metadata": {},
   "source": [
    "Notice that the `logflux` column really has too many output digits given the precision of the input values.  We can fix this by setting the format using normal Python formatting syntax:"
   ]
  },
  {
   "cell_type": "code",
   "execution_count": 14,
   "metadata": {},
   "outputs": [
    {
     "data": {
      "text/html": [
       "&lt;Table length=5&gt;\n",
       "<table id=\"table4483604880\" class=\"table-striped table-bordered table-condensed\">\n",
       "<thead><tr><th>name</th><th>flux</th><th>logflux</th></tr></thead>\n",
       "<thead><tr><th>str8</th><th>float64</th><th>float64</th></tr></thead>\n",
       "<tr><td>source 1</td><td>1.20</td><td>0.08</td></tr>\n",
       "<tr><td>source 2</td><td>2.20</td><td>0.34</td></tr>\n",
       "<tr><td>source 3</td><td>3.10</td><td>0.49</td></tr>\n",
       "<tr><td>source 4</td><td>4.30</td><td>0.63</td></tr>\n",
       "<tr><td>source 5</td><td>10.10</td><td>1.00</td></tr>\n",
       "</table>"
      ],
      "text/plain": [
       "<Table length=5>\n",
       "  name     flux  logflux\n",
       "  str8   float64 float64\n",
       "-------- ------- -------\n",
       "source 1    1.20    0.08\n",
       "source 2    2.20    0.34\n",
       "source 3    3.10    0.49\n",
       "source 4    4.30    0.63\n",
       "source 5   10.10    1.00"
      ]
     },
     "execution_count": 14,
     "metadata": {},
     "output_type": "execute_result"
    }
   ],
   "source": [
    "t['flux'].format = '%.2f'\n",
    "t['logflux'].format = '%.2f'\n",
    "t"
   ]
  },
  {
   "cell_type": "markdown",
   "metadata": {},
   "source": [
    "### Converting the table to numpy\n",
    "\n",
    "Sometimes you may not want or be able to use a `Table` object and prefer to work with a plain numpy array.  This is easily done by passing the table to the `np.array()` constructor.  This makes a copy of the data."
   ]
  },
  {
   "cell_type": "code",
   "execution_count": 15,
   "metadata": {},
   "outputs": [
    {
     "data": {
      "text/plain": [
       "array([('source 1',   1.2,  0.07918125), ('source 2',   2.2,  0.34242268),\n",
       "       ('source 3',   3.1,  0.49136169), ('source 4',   4.3,  0.63346846),\n",
       "       ('source 5',  10.1,  1.00432137)], \n",
       "      dtype=[('name', 'S8'), ('flux', '<f8'), ('logflux', '<f8')])"
      ]
     },
     "execution_count": 15,
     "metadata": {},
     "output_type": "execute_result"
    }
   ],
   "source": [
    "np.array(t)"
   ]
  },
  {
   "cell_type": "markdown",
   "metadata": {},
   "source": [
    "Masked tables\n",
    "-------------"
   ]
  },
  {
   "cell_type": "code",
   "execution_count": null,
   "metadata": {},
   "outputs": [],
   "source": [
    "t2 = Table([['x', 'y', 'z'], \n",
    "            [1.1, 2.2, 3.3]],\n",
    "           names=['name', 'value'],\n",
    "           masked=True)\n",
    "print t2"
   ]
  },
  {
   "cell_type": "code",
   "execution_count": null,
   "metadata": {},
   "outputs": [],
   "source": [
    "t2['value'].mask = [False, True, False]"
   ]
  },
  {
   "cell_type": "code",
   "execution_count": null,
   "metadata": {},
   "outputs": [],
   "source": [
    "print t2"
   ]
  },
  {
   "cell_type": "code",
   "execution_count": null,
   "metadata": {},
   "outputs": [],
   "source": [
    "t2['value'].fill_value = -99\n",
    "print t2.filled()"
   ]
  },
  {
   "cell_type": "markdown",
   "metadata": {},
   "source": [
    "High-level table operations\n",
    "----------------------------\n",
    "\n",
    "So far we've just worked with one table at a time and viewed that table as a monolithic entity.  Astropy also supports high-level [Table operations](http://astropy.readthedocs.org/en/stable/table/operations.html) that manipulate multiple tables or view one table as a collection of sub-tables (groups).\n",
    "\n",
    " Documentation\t                                                                         | Description\n",
    "---------------------------------------------------------------------------------------- |-----------------------------------------\n",
    "[Grouped operations](http://astropy.readthedocs.org/en/stable/table/operations.html#id2) | Group tables and columns by keys\n",
    "[Stack vertically](http://astropy.readthedocs.org/en/stable/table/operations.html#id3)   | Concatenate input tables along rows\n",
    "[Stack horizontally](http://astropy.readthedocs.org/en/stable/table/operations.html#id4) | Concatenate input tables along columns\n",
    "[Join](http://astropy.readthedocs.org/en/stable/table/operations.html#join)              | Database-style join of two tables\n",
    "\n",
    "Here we'll just introduce the join operation but go into more detail on the others in the exercises."
   ]
  },
  {
   "cell_type": "code",
   "execution_count": null,
   "metadata": {},
   "outputs": [],
   "source": [
    "from astropy.table import join"
   ]
  },
  {
   "cell_type": "markdown",
   "metadata": {},
   "source": [
    "Now recall our original table `t`:"
   ]
  },
  {
   "cell_type": "code",
   "execution_count": null,
   "metadata": {},
   "outputs": [],
   "source": [
    "print t"
   ]
  },
  {
   "cell_type": "markdown",
   "metadata": {},
   "source": [
    "Now say that we now got some additional flux values from a different reference for a different, but overlapping sample of sources:"
   ]
  },
  {
   "cell_type": "code",
   "execution_count": null,
   "metadata": {},
   "outputs": [],
   "source": [
    "t2 = Table()\n",
    "t2['name'] = ['source 1', 'source 3', 'source 8']\n",
    "t2['flux2'] = [1.4, 3.5, 8.6]\n",
    "print t2"
   ]
  },
  {
   "cell_type": "markdown",
   "metadata": {},
   "source": [
    "Now we can get a master table of flux measurements which are joined matching the values the `name` column.  This includes every row from each of the two tables, which is known as an **`outer`** join."
   ]
  },
  {
   "cell_type": "code",
   "execution_count": null,
   "metadata": {},
   "outputs": [],
   "source": [
    "t3 = join(t, t2, keys=['name'], join_type='outer')\n",
    "print t3"
   ]
  },
  {
   "cell_type": "code",
   "execution_count": null,
   "metadata": {},
   "outputs": [],
   "source": [
    "np.mean(t3['flux2'])"
   ]
  },
  {
   "cell_type": "markdown",
   "metadata": {},
   "source": [
    "Alternately we could choose to keep only rows where both tables had a valid measurement using an **`inner`** join:"
   ]
  },
  {
   "cell_type": "code",
   "execution_count": null,
   "metadata": {},
   "outputs": [],
   "source": [
    "join(t, t2, keys=['name'], join_type='inner')"
   ]
  },
  {
   "cell_type": "markdown",
   "metadata": {},
   "source": [
    "Writing data\n",
    "------------"
   ]
  },
  {
   "cell_type": "code",
   "execution_count": null,
   "metadata": {},
   "outputs": [],
   "source": [
    "t3.write('test.fits', overwrite=True)"
   ]
  },
  {
   "cell_type": "code",
   "execution_count": null,
   "metadata": {},
   "outputs": [],
   "source": [
    "t3.write('test.txt', format='ascii')"
   ]
  },
  {
   "cell_type": "markdown",
   "metadata": {},
   "source": [
    "Reading data\n",
    "------------\n",
    "\n",
    "You can read data using the [Table.read()](http://astropy.readthedocs.org/en/stable/api/astropy.table.table.Table.html#astropy.table.table.Table.read) method:"
   ]
  },
  {
   "cell_type": "code",
   "execution_count": null,
   "metadata": {},
   "outputs": [],
   "source": [
    "t4 = Table.read('test.fits')\n",
    "t4"
   ]
  }
 ],
 "metadata": {
  "kernelspec": {
   "display_name": "Python 2",
   "language": "python",
   "name": "python2"
  },
  "language_info": {
   "codemirror_mode": {
    "name": "ipython",
    "version": 2
   },
   "file_extension": ".py",
   "mimetype": "text/x-python",
   "name": "python",
   "nbconvert_exporter": "python",
   "pygments_lexer": "ipython2",
   "version": "2.7.13"
  }
 },
 "nbformat": 4,
 "nbformat_minor": 1
}
