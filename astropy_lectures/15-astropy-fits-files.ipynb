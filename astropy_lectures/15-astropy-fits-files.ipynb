{
 "metadata": {
  "name": "",
  "signature": "sha256:4aeb3f90c17ada948e8d7221d64c1ba1c472d26c6724e258353839646dea0803"
 },
 "nbformat": 3,
 "nbformat_minor": 0,
 "worksheets": [
  {
   "cells": [
    {
     "cell_type": "heading",
     "level": 1,
     "metadata": {},
     "source": [
      "AstroPy: Handling FITS files"
     ]
    },
    {
     "cell_type": "markdown",
     "metadata": {},
     "source": [
      "Documentation\n",
      "-------------\n",
      "\n",
      "For more information about the features presented below, you can read the\n",
      "[astropy.io.fits](http://docs.astropy.org/en/stable/io/fits/index.html) docs.\n",
      "\n",
      "\n",
      "Reading FITS files and accessing data\n",
      "-------------------------------------\n",
      "\n",
      "Opening a FITS file is relatively straightforward. Here we open an image from the [IPHAS](http://www.iphas.org) imaging survey:"
     ]
    },
    {
     "cell_type": "code",
     "collapsed": false,
     "input": [
      "from astropy.io import fits"
     ],
     "language": "python",
     "metadata": {},
     "outputs": [],
     "prompt_number": 5
    },
    {
     "cell_type": "code",
     "collapsed": false,
     "input": [
      "hdulist = fits.open('http://star.herts.ac.uk/~gb/python/656nmos.fits')"
     ],
     "language": "python",
     "metadata": {},
     "outputs": [],
     "prompt_number": 7
    },
    {
     "cell_type": "markdown",
     "metadata": {},
     "source": [
      "The returned object, ``hdulist``, (an instance of the [HDUList class](http://docs.astropy.org/en/stable/io/fits/api/hdulists.html#hdulist)) behaves like a Python list, and each element\n",
      "maps to a Header-Data Unit (HDU) in the FITS file. You can view more\n",
      "information about the FITS file with:"
     ]
    },
    {
     "cell_type": "code",
     "collapsed": false,
     "input": [
      "hdulist.info()"
     ],
     "language": "python",
     "metadata": {},
     "outputs": [
      {
       "output_type": "stream",
       "stream": "stdout",
       "text": [
        "Filename: /tmp/tmpqwbXNm.fits\n",
        "No.    Name         Type      Cards   Dimensions   Format\n",
        "0    PRIMARY     PrimaryHDU     290   (1600, 1600)   float32   \n",
        "1    656nmos_cvt.tab  TableHDU       353   1R x 49C     [D25.17, D25.17, E15.7, E15.7, E15.7, E15.7, E15.7, E15.7, E15.7, E15.7, A1, E15.7, I12, I12, D25.17, D25.17, A8, A8, I12, E15.7, E15.7, E15.7, E15.7, E15.7, E15.7, I12, I12, I12, I12, I12, I12, I12, I12, A48, E15.7, E15.7, E15.7, E15.7, E15.7, E15.7, E15.7, E15.7, E15.7, E15.7, E15.7, E15.7, E15.7, E15.7, E15.7]   \n"
       ]
      }
     ],
     "prompt_number": 8
    },
    {
     "cell_type": "markdown",
     "metadata": {},
     "source": [
      "As we can see, this file contains two HDUs. The first contains the image, the second a data table. To access the primary HDU, which contains the main data, you can then do:"
     ]
    },
    {
     "cell_type": "code",
     "collapsed": false,
     "input": [
      "hdu = hdulist[0]"
     ],
     "language": "python",
     "metadata": {},
     "outputs": [],
     "prompt_number": 17
    },
    {
     "cell_type": "markdown",
     "metadata": {},
     "source": [
      "The ``hdu`` object then has two important attributes: ``data``, which behaves\n",
      "like a Numpy array, can be used to access the data, and ``header``, which\n",
      "behaves like a dictionary, can be used to access the header information.\n",
      "First, we can take a look at the data:"
     ]
    },
    {
     "cell_type": "code",
     "collapsed": false,
     "input": [
      "hdu.data.shape"
     ],
     "language": "python",
     "metadata": {},
     "outputs": [
      {
       "metadata": {},
       "output_type": "pyout",
       "prompt_number": 18,
       "text": [
        "(1600, 1600)"
       ]
      }
     ],
     "prompt_number": 18
    },
    {
     "cell_type": "markdown",
     "metadata": {},
     "source": [
      "This tells us that it is a 1600-by-1600 pixel image. We can now take a peak at the header:"
     ]
    },
    {
     "cell_type": "code",
     "collapsed": false,
     "input": [
      "hdu.header"
     ],
     "language": "python",
     "metadata": {},
     "outputs": [
      {
       "metadata": {},
       "output_type": "pyout",
       "prompt_number": 19,
       "text": [
        "SIMPLE  =                    T / FITS STANDARD                                  \n",
        "BITPIX  =                  -32 / FITS BITS/PIXEL                                \n",
        "NAXIS   =                    2 / NUMBER OF AXES                                 \n",
        "NAXIS1  =                 1600 /                                                \n",
        "NAXIS2  =                 1600 /                                                \n",
        "EXTEND  =                    T / There maybe standard extensions                \n",
        "BSCALE  =                1.0E0 / REAL = TAPE*BSCALE + BZERO                     \n",
        "BZERO   =                0.0E0 /                                                \n",
        "OPSIZE  =                 2112 / PSIZE of original image                        \n",
        "ORIGIN  = 'STScI-STSDAS'       / Fitsio version 21-Feb-1996                     \n",
        "FITSDATE= '2005-07-01'         / Date FITS file was created                     \n",
        "FILENAME= '656nmos_cvt.hhh'    / Original filename                              \n",
        "ALLG-MAX=           0.000000E0 / Data max in all groups                         \n",
        "ALLG-MIN=           0.000000E0 / Data min in all groups                         \n",
        "ODATTYPE= 'FLOATING'           / Original datatype: Single precision real       \n",
        "SDASMGNU=                    1 / Number of groups in original image             \n",
        "CRVAL1  =      274.71149247724                                                  \n",
        "CRVAL2  =     -13.816384007184                                                  \n",
        "CRPIX1  =                386.5                                                  \n",
        "CRPIX2  =                 396.                                                  \n",
        "CD1_1   =          1.878013E-5                                                  \n",
        "CD1_2   =         -2.031193E-5                                                  \n",
        "CD2_1   =         -2.029358E-5                                                  \n",
        "CD2_2   =         -1.879711E-5                                                  \n",
        "DATAMIN =           0.000000E0 / DATA MIN                                       \n",
        "DATAMAX =           0.000000E0 / DATA MAX                                       \n",
        "MIR_REVR=                    T                                                  \n",
        "ORIENTAT=            -131.9115                                                  \n",
        "FILLCNT =                    0                                                  \n",
        "ERRCNT  =                    0                                                  \n",
        "FPKTTIME=     49808.7324543649                                                  \n",
        "LPKTTIME=      49808.732622189                                                  \n",
        "CTYPE1  = 'RA---TAN'                                                            \n",
        "CTYPE2  = 'DEC--TAN'                                                            \n",
        "DETECTOR=                    4                                                  \n",
        "DEZERO  =             311.3041                                                  \n",
        "BIASEVEN=             311.3347                                                  \n",
        "BIASODD =             311.2736                                                  \n",
        "GOODMIN =             20.02589                                                  \n",
        "GOODMAX =             5584.467                                                  \n",
        "DATAMEAN=              89.2569                                                  \n",
        "GPIXELS =               559905                                                  \n",
        "SOFTERRS=                    0                                                  \n",
        "CALIBDEF=                80081                                                  \n",
        "STATICD =                    0                                                  \n",
        "ATODSAT =                   15                                                  \n",
        "DATALOST=                    0                                                  \n",
        "BADPIXEL=                    0                                                  \n",
        "OVERLAP =                    0                                                  \n",
        "PHOTMODE= 'WFPC2,4,A2D7,F656N,,CAL                         '                    \n",
        "PHOTFLAM=         1.528990E-16                                                  \n",
        "PHOTZPT =                -21.1                                                  \n",
        "PHOTPLAM=             6563.585                                                  \n",
        "PHOTBW  =             55.16187                                                  \n",
        "MEDIAN  =             93.54508                                                  \n",
        "MEDSHADO=             66.10242                                                  \n",
        "HISTWIDE=             62.41553                                                  \n",
        "SKEWNESS=           -0.1202522                                                  \n",
        "MEANC10 =             126.9503                                                  \n",
        "MEANC25 =             128.0693                                                  \n",
        "MEANC50 =             134.1882                                                  \n",
        "MEANC100=               132.23                                                  \n",
        "MEANC200=             114.3746                                                  \n",
        "MEANC300=             100.2731                                                  \n",
        "BACKGRND=             42.37756                                                  \n",
        "DADSFILE= 'U2LX0501T.D0F'      /                                                \n",
        "DADSCLAS= 'CAL     '           /                                                \n",
        "DADSDATE= '02-APR-1995 16:09:04' /                                              \n",
        "                                                                                \n",
        "                 / GROUP PARAMETERS: OSS                                        \n",
        "                                                                                \n",
        "                 / GROUP PARAMETERS: PODPS                                      \n",
        "                                                                                \n",
        "                 / GROUP PARAMETERS: DATA QUALITY FILE SUMMARY                  \n",
        "                                                                                \n",
        "                 / GROUP PARAMETERS: PHOTOMETRY                                 \n",
        "                                                                                \n",
        "                 / GROUP PARAMETERS: IMAGE STATISTICS                           \n",
        "                                                                                \n",
        "                 / WFPC-II DATA DESCRIPTOR KEYWORDS                             \n",
        "INSTRUME= 'WFPC2             ' / instrument in use                              \n",
        "ROOTNAME= 'U2LX0501T         ' / rootname of the observation set                \n",
        "FILETYPE= 'SCI               ' / shp, ext, edq, sdq, sci                        \n",
        "                                                                                \n",
        "                 / SCIENCE INSTRUMENT CONFIGURATION                             \n",
        "MODE    = 'FULL              ' / instr. mode: FULL (full res.), AREA (area int.)\n",
        "SERIALS = 'ON                ' / serial clocks: ON, OFF                         \n",
        "                                                                                \n",
        "                 / IMAGE TYPE CHARACTERISTICS                                   \n",
        "IMAGETYP= 'EXT               ' / DARK/BIAS/IFLAT/UFLAT/VFLAT/KSPOT/EXT/ECAL     \n",
        "CDBSFILE= 'NO                ' / GENERIC/BIAS/DARK/FLAT/MASK/NO                 \n",
        "PKTFMT  =                  104 / packet format code                             \n",
        "DATE    = '02/04/95          ' / date file written (dd/mm/yy)                   \n",
        "                                                                                \n",
        "                 / FILTER CONFIGURATION                                         \n",
        "FILTNAM1= 'F656N             ' / first filter name                              \n",
        "FILTNAM2= '                  ' / second filter name                             \n",
        "FILTER1 =                   31 / first filter number (0-48)                     \n",
        "FILTER2 =                    0 / second filter number (0-48)                    \n",
        "FILTROT =                  0.0 / partial filter rotation angle (degrees)        \n",
        "LRFWAVE =                  0.0 / linear ramp filter wavelength                  \n",
        "                                                                                \n",
        "                 / INSTRUMENT STATUS USED IN DATA PROCESSING                    \n",
        "UCH1CJTM=      -88.34862518311 / TEC cold junction #1 temperature (Celsius)     \n",
        "UCH2CJTM=      -88.80734252930 / TEC cold junction #2 temperature (Celsius)     \n",
        "UCH3CJTM=      -88.39449310303 / TEC cold junction #3 temperature (Celsius)     \n",
        "UCH4CJTM=      -88.90411376953 / TEC cold junction #4 temperature (Celsius)     \n",
        "UBAY3TMP=       13.61565399170 / bay 3 A1 temperature (deg C)                   \n",
        "KSPOTS  = 'OFF               ' / Status of Kelsall spot lamps: ON, OFF          \n",
        "SHUTTER = 'B                 ' / Shutter in place at the beginning of the exposu\n",
        "ATODGAIN=       7.000000000000 / Analog to Digital Gain (Electrons/DN)          \n",
        "                                                                                \n",
        "                 / RSDP CONTROL KEYWORDS                                        \n",
        "MASKCORR= 'COMPLETE'           / Do mask correction: PERFORM, OMIT, COMPLETE    \n",
        "ATODCORR= 'COMPLETE'           / Do A-to-D correction: PERFORM, OMIT, COMPLETE  \n",
        "BLEVCORR= 'COMPLETE'           / Do bias level correction: PERFORM, OMIT, COMPLE\n",
        "BIASCORR= 'COMPLETE'           / Do bias correction: PERFORM, OMIT, COMPLETE    \n",
        "DARKCORR= 'COMPLETE'           / Do dark correction: PERFORM, OMIT, COMPLETE    \n",
        "FLATCORR= 'COMPLETE'           / Do flat field correction: PERFORM, OMIT, COMPLE\n",
        "SHADCORR= 'COMPLETE'           / Do shaded shutter correction: PERFORM, OMIT, CO\n",
        "DOSATMAP= 'OMIT              ' / Output saturated pixel map: PERFORM, OMIT, COMP\n",
        "DOPHOTOM= 'COMPLETE'           / Fill photometry keywords: PERFORM, OMIT, COMPLE\n",
        "DOHISTOS= 'OMIT    '           / Make histograms: PERFORM, OMIT, COMPLETE       \n",
        "OUTDTYPE= 'REAL    '           / Output image datatype: REAL, LONG, SHORT       \n",
        "                                                                                \n",
        "                 / CALIBRATION REFERENCE FILES                                  \n",
        "MASKFILE= 'uref$f8213081u.r0h' / name of the input DQF of known bad pixels      \n",
        "ATODFILE= 'uref$dbu1405iu.r1h' / name of the A-to-D conversion file             \n",
        "BLEVFILE= 'ucal$u2lx0501t.x0h' / Engineering file with extended register data   \n",
        "BLEVDFIL= 'ucal$u2lx0501t.q1h' / Engineering file DQF                           \n",
        "BIASFILE= 'uref$fcb1503du.r2h' / name of the bias frame reference file          \n",
        "BIASDFIL= 'uref$fcb1503du.b2h' / name of the bias frame reference DQF           \n",
        "DARKFILE= 'uref$f461210tu.r3h' / name of the dark reference file                \n",
        "DARKDFIL= 'uref$f461210tu.b3h' / name of the dark reference DQF                 \n",
        "FLATFILE= 'uref$g6h0945cu.r4h' / name of the flat field reference file          \n",
        "FLATDFIL= 'uref$g6h0945cu.b4h' / name of the flat field reference DQF           \n",
        "SHADFILE= 'uref$e371355iu.r5h' / name of the reference file for shutter shading \n",
        "PHOTTAB = '                  ' / name of the photometry calibration table       \n",
        "GRAPHTAB= 'mtab$m1p1255om.tmg' / the HST graph table                            \n",
        "COMPTAB = 'mtab$m4i1217km.tmc' / the HST components table                       \n",
        "                                                                                \n",
        "                 / DEFAULT KEYWORDS SET BY STSCI                                \n",
        "SATURATE=                 4095 / Data value at which saturation occurs          \n",
        "USCALE  =                  1.0 / Scale factor for output image                  \n",
        "UZERO   =                  0.0 / Zero point for output image                    \n",
        "                                                                                \n",
        "                 / READOUT DURATION INFORMATION                                 \n",
        "READTIME=                  464 / Length of time for CCD readout in clock ticks  \n",
        "                                                                                \n",
        "                 / PLANETARY SCIENCE KEYWORDS                                   \n",
        "PA_V3   =        0.9299789E+02 / position angle of v3 axis of HST               \n",
        "RA_SUN  =  0.1065970464620E+02 / right ascension of the sun (deg)               \n",
        "DEC_SUN =  0.4585364087424E+01 / declination of the sun (deg)                   \n",
        "EQNX_SUN=               2000.0 / equinox of the sun                             \n",
        "MTFLAG  =                    F / moving target flag                             \n",
        "EQRADTRG=                  0.0 / equatorial radius of target                    \n",
        "FLATNTRG=                  0.0 / flattening of target                           \n",
        "NPDECTRG=                  0.0 / north pole declination of target               \n",
        "NPRATRG =                  0.0 / north pole right ascension of target           \n",
        "ROTRTTRG=                  0.0 / rotation rate of target                        \n",
        "LONGPMER=                  0.0 / longitude of prime meridian                    \n",
        "EPLONGPM=                  0.0 / epoch of longitude of prime meridian           \n",
        "SURFLATD=                  0.0 / surface feature latitude                       \n",
        "SURFLONG=                  0.0 / surface feature longitude                      \n",
        "SURFALTD=                  0.0 / surface feature altitude                       \n",
        "                                                                                \n",
        "                 / PODPS FILL VALUES                                            \n",
        "PODPSFF =                    0 / 0=(no podps fill), 1=(podps fill present)      \n",
        "STDCFFF =                    0 / 0=(no st dcf fill), 1=(st dcf fill present)    \n",
        "STDCFFP = '0000              ' / st dcf fill pattern (hex)                      \n",
        "RSDPFILL=                 -100 / bad data fill value for calibrated images      \n",
        "                                                                                \n",
        "                 / EXPOSURE TIME AND RELATED INFORMATION                        \n",
        "UEXPODUR=                 1100 / Commanded duration of exposure (seconds)       \n",
        "NSHUTA17=                    1 / Number of AP17 shutter B closes                \n",
        "DARKTIME=       1100.000000000 / Dark time (seconds)                            \n",
        "UEXPOTIM=                23408 / Major frame pulse time preceding exposure start\n",
        "PSTRTIME= '1995.091:17:32:39 ' / Predicted obs. start time  (yyyy:ddd:hh:mm:ss) \n",
        "PSTPTIME= '1995.091:17:52:39 ' / Predicted obs. stop  time  (yyyy:ddd:hh:mm:ss) \n",
        "                                                                                \n",
        "                 / EXPOSURE INFORMATION                                         \n",
        "SUNANGLE=       96.85704040527 / angle between sun and V1 axis (deg)            \n",
        "MOONANGL=       115.2464447021 / angle between moon and V1 axis (deg)           \n",
        "SUN_ALT =       36.93915557861 / altitude of the sun above Earth's limb (deg)   \n",
        "FGSLOCK = 'FINE              ' / commanded FGS lock (FINE,COARSE,GYROS,UNKNOWN) \n",
        "                                                                                \n",
        "DATE-OBS= ' 1/04/95          ' / UT date of start of observation (dd/mm/yy)     \n",
        "TIME-OBS= '17:15:17          ' / UT time of start of observation (hh:mm:ss)     \n",
        "EXPSTART=       49808.71894742 / exposure start time (Modified Julian Date)     \n",
        "EXPEND  =       49808.73167890 / exposure end time (Modified Julian Date)       \n",
        "EXPTIME =                1100. / exposure duration (seconds)--calculated        \n",
        "EXPFLAG = 'NORMAL            ' / Exposure interruption indicator                \n",
        "                                                                                \n",
        "                 / TARGET & PROPOSAL ID                                         \n",
        "TARGNAME= 'M16-A             ' / proposer's target name                         \n",
        "RA_TARG =  0.2747039166667E+03 / right ascension of the target (deg) (J2000)    \n",
        "DEC_TARG= -0.1383091666667E+02 / declination of the target (deg) (J2000)        \n",
        "                                                                                \n",
        "PROPOSID=                05773 / PEP proposal identifier                        \n",
        "PEP_EXPO= '4.2000017#001     ' / PEP exposure identifier including sequence     \n",
        "LINENUM = '4.010             ' / PEP proposal line number                       \n",
        "SEQLINE = '4.200             ' / PEP line number of defined sequence            \n",
        "SEQNAME = 'M16SEQ            ' / PEP define/use sequence name                   \n",
        "                                                                                \n",
        "HISTORY   MASKFILE=uref$f8213081u.r0h  MASKCORR=COMPLETED                       \n",
        "HISTORY   PEDIGREE=INFLIGHT 01/01/1994 - 15/05/1995                             \n",
        "HISTORY   DESCRIP=STATIC MASK - INCLUDES CHARGE TRANSFER TRAPS                  \n",
        "HISTORY   BIASFILE=uref$fcb1503du.r2h  BIASCORR=COMPLETED                       \n",
        "HISTORY   PEDIGREE=INFLIGHT 13/01/1995 - 11/04/1995                             \n",
        "HISTORY   DESCRIP=not signif. different from f1j16* but generated from new data \n",
        "HISTORY   DARKFILE=uref$f461210tu.r3h  DARKCORR=COMPLETED                       \n",
        "HISTORY   PEDIGREE=INFLIGHT 27/03/1995 - 04/04/1995                             \n",
        "HISTORY   DESCRIP=dark,full mode,serials on,gain=7,-88C                         \n",
        "HISTORY   FLATFILE=uref$g6h0945cu.r4h  FLATCORR=COMPLETED                       \n",
        "HISTORY   PEDIGREE=INFLIGHT 01/05/1994 - 01/10/1994                             \n",
        "HISTORY   DESCRIP=Improved Cyc4 flat, fixed errors at CCD edges - now < 0.5% RMS\n",
        "HISTORY   SHADFILE=uref$e371355iu.r5h  SHADCORR=COMPLETED                       \n",
        "HISTORY   PEDIGREE=GROUND                                                       \n",
        "HISTORY   DESCRIP=                                                              \n",
        "HISTORY   PC1: bias jump level ~0.155 DN.                                       \n",
        "HISTORY   The following throughput tables were used:                            \n",
        "HISTORY   crotacomp$hst_ota_007_syn.fits, crwfpc2comp$wfpc2_optics_006_syn.fits,\n",
        "HISTORY   crwfpc2comp$wfpc2_f656n_005_syn.fits,                                 \n",
        "HISTORY   crwfpc2comp$wfpc2_dqepc1_005_syn.fits,                                \n",
        "HISTORY   crwfpc2comp$wfpc2_a2d7pc1_004_syn.fits,                               \n",
        "HISTORY   crwfpc2comp$wfpc2_flatpc1_003_syn.fits                                \n",
        "HISTORY   WF2: bias jump level ~0.180 DN.                                       \n",
        "HISTORY   The following throughput tables were used:                            \n",
        "HISTORY   crotacomp$hst_ota_007_syn.fits, crwfpc2comp$wfpc2_optics_006_syn.fits,\n",
        "HISTORY   crwfpc2comp$wfpc2_f656n_005_syn.fits,                                 \n",
        "HISTORY   crwfpc2comp$wfpc2_dqewfc2_005_syn.fits,                               \n",
        "HISTORY   crwfpc2comp$wfpc2_a2d7wf2_004_syn.fits,                               \n",
        "HISTORY   crwfpc2comp$wfpc2_flatwf2_003_syn.fits                                \n",
        "HISTORY   WF3: bias jump level ~0.274 DN.                                       \n",
        "HISTORY   The following throughput tables were used:                            \n",
        "HISTORY   crotacomp$hst_ota_007_syn.fits, crwfpc2comp$wfpc2_optics_006_syn.fits,\n",
        "HISTORY   crwfpc2comp$wfpc2_f656n_005_syn.fits,                                 \n",
        "HISTORY   crwfpc2comp$wfpc2_dqewfc3_005_syn.fits,                               \n",
        "HISTORY   crwfpc2comp$wfpc2_a2d7wf3_004_syn.fits,                               \n",
        "HISTORY   crwfpc2comp$wfpc2_flatwf3_003_syn.fits                                \n",
        "HISTORY   WF4: bias jump level ~0.202 DN.                                       \n",
        "HISTORY   The following throughput tables were used:                            \n",
        "HISTORY   crotacomp$hst_ota_007_syn.fits, crwfpc2comp$wfpc2_optics_006_syn.fits,\n",
        "HISTORY   crwfpc2comp$wfpc2_f656n_005_syn.fits,                                 \n",
        "HISTORY   crwfpc2comp$wfpc2_dqewfc4_005_syn.fits,                               \n",
        "HISTORY   crwfpc2comp$wfpc2_a2d7wf4_004_syn.fits,                               \n",
        "HISTORY   crwfpc2comp$wfpc2_flatwf4_003_syn.fits                                \n",
        "HISTORY   Ran task WARMPIX, version 1.1 (Sep 28, 1999) at Mon 00:16:49          \n",
        "HISTORY   29-Jul-2002, rej_thresh=0.10000, fix_thresh=0.00300,                  \n",
        "HISTORY   var_thresh=0.00300,                                                   \n",
        "HISTORY   fix_dqval=1024, rej_val=INDEF                                         \n",
        "SKYSUB1 =                 13.7 / Sky value for chip 1                           \n",
        "PYS_VERS=                  1.7 / PyStack.py: Version                            \n",
        "IRAF_I  = 'IRAF V2.11 May 1997 release:2.11.3b'                                 \n",
        "STAC_I  = '$RCSfile: imstack_imshift_imcomb.cl,v $ $Revision: 1.1 $'            \n",
        "PYS_ITER=                    5 / PyStack.py: Number of iterations               \n",
        "PYS_HEXP=                    2 / PyStack.py: Value of exponent                  \n",
        "SKYSUB2 =                86.37 / Sky value for chip 2                           \n",
        "SKYSUB3 =                88.54 / Sky value for chip 3                           \n",
        "SKYSUB4 =                44.66 / Sky value for chip 4                           \n",
        "NCOMBINE=                    2 / Number of exposures for this association       \n",
        "ASTR_I  = '$RCSfile: image_type.cl,v $ $Revision: 1.1 $'                        \n",
        "XSHIFT  =         -2.136230E-4 / Y shift in degrees from USNO stars             \n",
        "YSHIFT  =         -2.765656E-5 / X shift in degrees from USNO stars             \n",
        "OCRVL1  =             274.7039 / Old CRVAL1 value before USNO correction        \n",
        "OCRVL2  =            -13.83092 / Old CRVAL2 value before USNO correction        \n",
        "FR_LOWF1=            0.9928686 / Fraction of flux in low frequency for chip 1   \n",
        "FR_STAR1=          5.451115E-4 / Fraction of flux in stars for chip 1           \n",
        "FR_GAL1 =          0.006586314 / Fraction of flux in stars for chip 1           \n",
        "FTOTAL1 =             3886.887 / Total flux in chip 1                           \n",
        "FR_LOWF2=            0.9486716 / Fraction of flux in low frequency for chip 2   \n",
        "FR_STAR2=          0.004499074 / Fraction of flux in stars for chip 2           \n",
        "FR_GAL2 =           0.04682927 / Fraction of flux in stars for chip 2           \n",
        "FTOTAL2 =             12345.12 / Total flux in chip 2                           \n",
        "FR_LOWF3=            0.9776544 / Fraction of flux in low frequency for chip 3   \n",
        "FR_STAR3=          6.581650E-4 / Fraction of flux in stars for chip 3           \n",
        "FR_GAL3 =           0.02168746 / Fraction of flux in stars for chip 3           \n",
        "FTOTAL3 =             16654.92 / Total flux in chip 3                           \n",
        "FR_LOWF4=            0.9892846 / Fraction of flux in low frequency for chip 4   \n",
        "FR_STAR4=          0.001161799 / Fraction of flux in stars for chip 4           \n",
        "FR_GAL4 =           0.00955356 / Fraction of flux in stars for chip 4           \n",
        "FTOTAL4 =             24094.24 / Total flux in chip 4                           \n",
        "FR_LOWF =            0.9773308 / Fraction of flux in low frequency for all chips\n",
        "FR_STARS=          0.001695556 / Fraction of flux in stars for all chips        \n",
        "FR_GALS =           0.02097363 / Fraction of flux in stars for all chips        \n",
        "FTOTAL  =             56981.16 / Total flux in all chips                        \n",
        "IMAG_I  = '$RCSfile$ $Revision$'                                                \n",
        "EQUINOX =                2000.                                                  \n",
        "SEXC_I  = '$RCSfile$ $Revision$'                                                \n",
        "HISTORY   Ran task WMOSAIC, version 2.1 (Jun 1995), at Fri 16:17:34 01-Jul-2005 "
       ]
      }
     ],
     "prompt_number": 19
    },
    {
     "cell_type": "markdown",
     "metadata": {},
     "source": [
      "We can access individual header keywords using standard item notation:"
     ]
    },
    {
     "cell_type": "code",
     "collapsed": false,
     "input": [
      "hdu.header['INSTRUME']"
     ],
     "language": "python",
     "metadata": {},
     "outputs": [
      {
       "metadata": {},
       "output_type": "pyout",
       "prompt_number": 21,
       "text": [
        "'WFPC2'"
       ]
      }
     ],
     "prompt_number": 21
    },
    {
     "cell_type": "code",
     "collapsed": false,
     "input": [
      "hdu.header['EXPTIME']"
     ],
     "language": "python",
     "metadata": {},
     "outputs": [
      {
       "metadata": {},
       "output_type": "pyout",
       "prompt_number": 22,
       "text": [
        "1100.0"
       ]
      }
     ],
     "prompt_number": 22
    },
    {
     "cell_type": "markdown",
     "metadata": {},
     "source": [
      "We can plot the image using matplotlib:"
     ]
    },
    {
     "cell_type": "code",
     "collapsed": false,
     "input": [
      "import matplotlib.pyplot as plt\n",
      "plt.imshow(np.log10(hdu.data), origin='lower', cmap='gray', vmin=1.5, vmax=3)"
     ],
     "language": "python",
     "metadata": {},
     "outputs": [
      {
       "metadata": {},
       "output_type": "pyout",
       "prompt_number": 41,
       "text": [
        "<matplotlib.image.AxesImage at 0x7f9cbacb9250>"
       ]
      },
      {
       "metadata": {},
       "output_type": "display_data",
       "png": "[encoded data removed]",
       "text": [
        "<matplotlib.figure.Figure at 0x7f9cbadf8d10>"
       ]
      }
     ],
     "prompt_number": 41
    },
    {
     "cell_type": "markdown",
     "metadata": {},
     "source": [
      "Note that this is just a plot of an array, so the coordinates are just pixel\n",
      "coordinates at this stage.\n",
      "\n",
      "Modifying data or header information in a FITS file object is easy. We can\n",
      "update header keywords:"
     ]
    },
    {
     "cell_type": "code",
     "collapsed": false,
     "input": [
      "hdu.header['INSTRUME'] = \"Wide-Field Planetary Camera 2 (WFPC2)\""
     ],
     "language": "python",
     "metadata": {},
     "outputs": [],
     "prompt_number": 42
    },
    {
     "cell_type": "markdown",
     "metadata": {},
     "source": [
      "or add new ones:"
     ]
    },
    {
     "cell_type": "code",
     "collapsed": false,
     "input": [
      "hdu.header['MODIFIED'] = '2014-12-01'  # adds a new keyword"
     ],
     "language": "python",
     "metadata": {},
     "outputs": [],
     "prompt_number": 43
    },
    {
     "cell_type": "markdown",
     "metadata": {},
     "source": [
      "and we can also change the data, for example subtracting a background value:"
     ]
    },
    {
     "cell_type": "code",
     "collapsed": false,
     "input": [
      "hdu.data = hdu.data - 0.5"
     ],
     "language": "python",
     "metadata": {},
     "outputs": [],
     "prompt_number": 45
    },
    {
     "cell_type": "markdown",
     "metadata": {},
     "source": [
      "This only changes the FITS file in memory. You can write to a file with:"
     ]
    },
    {
     "cell_type": "code",
     "collapsed": false,
     "input": [
      "hdu.writeto('hubble-image-background-subtracted.fits', clobber=True)"
     ],
     "language": "python",
     "metadata": {},
     "outputs": [],
     "prompt_number": 46
    },
    {
     "cell_type": "markdown",
     "metadata": {},
     "source": [
      "Creating a FITS file from scratch\n",
      "---------------------------------\n",
      "\n",
      "If you want to create a FITS file from scratch, you need to start off by creating an HDU object:"
     ]
    },
    {
     "cell_type": "code",
     "collapsed": false,
     "input": [
      "hdu = fits.PrimaryHDU()"
     ],
     "language": "python",
     "metadata": {},
     "outputs": [],
     "prompt_number": 47
    },
    {
     "cell_type": "markdown",
     "metadata": {},
     "source": [
      "and you can then populate the data and header attributes with whatever information you like:"
     ]
    },
    {
     "cell_type": "code",
     "collapsed": false,
     "input": [
      "import numpy as np"
     ],
     "language": "python",
     "metadata": {},
     "outputs": [],
     "prompt_number": 48
    },
    {
     "cell_type": "code",
     "collapsed": false,
     "input": [
      "hdu.data = np.random.random((128, 128))"
     ],
     "language": "python",
     "metadata": {},
     "outputs": [],
     "prompt_number": 49
    },
    {
     "cell_type": "markdown",
     "metadata": {},
     "source": [
      "Note that setting the data automatically populates the header with basic information:"
     ]
    },
    {
     "cell_type": "code",
     "collapsed": false,
     "input": [
      "hdu.header"
     ],
     "language": "python",
     "metadata": {},
     "outputs": [
      {
       "metadata": {},
       "output_type": "pyout",
       "prompt_number": 50,
       "text": [
        "SIMPLE  =                    T / conforms to FITS standard                      \n",
        "BITPIX  =                  -64 / array data type                                \n",
        "NAXIS   =                    2 / number of array dimensions                     \n",
        "NAXIS1  =                  128                                                  \n",
        "NAXIS2  =                  128                                                  \n",
        "EXTEND  =                    T                                                  "
       ]
      }
     ],
     "prompt_number": 50
    },
    {
     "cell_type": "markdown",
     "metadata": {},
     "source": [
      "and you should never have to set header keywords such as ``NAXIS``, ``NAXIS1``, and so on manually. We can then set additional header keywords:"
     ]
    },
    {
     "cell_type": "code",
     "collapsed": false,
     "input": [
      "hdu.header['telescop'] = 'Python Observatory'  # Note the keyword is case-insensitive; it will be written all caps"
     ],
     "language": "python",
     "metadata": {},
     "outputs": [],
     "prompt_number": 51
    },
    {
     "cell_type": "markdown",
     "metadata": {},
     "source": [
      "and we can then write out the FITS file to disk:"
     ]
    },
    {
     "cell_type": "code",
     "collapsed": false,
     "input": [
      "hdu.writeto('random_array.fits', clobber=True)"
     ],
     "language": "python",
     "metadata": {},
     "outputs": [],
     "prompt_number": 52
    },
    {
     "cell_type": "markdown",
     "metadata": {},
     "source": [
      "Creating a multi-extension FITS file\n",
      "------------------------------------\n",
      "\n",
      "Many observatories format their FITS files such that no data is stored in the primary HDU.  Instead, multiple image extensions are used to store each of the main image data, the data quality array, the error values, etc.  The primary HDU stores no data, but does use the primary header to store metadata common to the observation.\n",
      "\n",
      "As mentioned before, the `HDUList` object is similar to a Python list, and can be manipulated like one to store multiple HDUs as well as reorder them in a FITS file.  For example we can create a primary HDU containing only metadata:"
     ]
    },
    {
     "cell_type": "code",
     "collapsed": false,
     "input": [
      "pri_hdu = fits.PrimaryHDU()\n",
      "pri_hdu.header['telescop'] = 'Python Observatory'"
     ],
     "language": "python",
     "metadata": {},
     "outputs": [],
     "prompt_number": 53
    },
    {
     "cell_type": "markdown",
     "metadata": {},
     "source": [
      "and then create an image extension HDU using the `ImageHDU` class:"
     ]
    },
    {
     "cell_type": "code",
     "collapsed": false,
     "input": [
      "img_hdu = fits.ImageHDU(data=np.random.random((128, 128)))"
     ],
     "language": "python",
     "metadata": {},
     "outputs": [],
     "prompt_number": 54
    },
    {
     "cell_type": "markdown",
     "metadata": {},
     "source": [
      "Finally, add both HDUs to an `HDUList` and write it to disk:"
     ]
    },
    {
     "cell_type": "code",
     "collapsed": false,
     "input": [
      "hdul = fits.HDUList([pri_hdu, img_hdu])\n",
      "hdul.writeto('random_array2.fits', clobber=True)"
     ],
     "language": "python",
     "metadata": {},
     "outputs": [],
     "prompt_number": 62
    },
    {
     "cell_type": "markdown",
     "metadata": {},
     "source": [
      "We can check that the output file is in the format we expected with the `fits.info()` convenience function.  This is a shortcut for the pattern we saw earlier of `hdul = fits.open(...); hdul.info()`:"
     ]
    },
    {
     "cell_type": "code",
     "collapsed": false,
     "input": [
      "fits.info('random_array2.fits')"
     ],
     "language": "python",
     "metadata": {},
     "outputs": [
      {
       "output_type": "stream",
       "stream": "stdout",
       "text": [
        "Filename: random_array2.fits\n",
        "No.    Name         Type      Cards   Dimensions   Format\n",
        "0    PRIMARY     PrimaryHDU       5   ()              \n",
        "1                ImageHDU         7   (128, 128)   float64   \n"
       ]
      }
     ],
     "prompt_number": 63
    },
    {
     "cell_type": "markdown",
     "metadata": {},
     "source": [
      "Because an `HDUList` is like a Python list, new HDUs can also be appended or inserted:"
     ]
    },
    {
     "cell_type": "code",
     "collapsed": false,
     "input": [
      "new_hdu = fits.ImageHDU(data=np.random.random((256, 256)))\n",
      "hdul.append(new_hdu)\n",
      "hdul.writeto('random_array3.fits', clobber=True)"
     ],
     "language": "python",
     "metadata": {},
     "outputs": [],
     "prompt_number": 64
    },
    {
     "cell_type": "markdown",
     "metadata": {},
     "source": [
      "This writes a new FITS file similar to the previous one, but with the new HDU inserted:"
     ]
    },
    {
     "cell_type": "code",
     "collapsed": false,
     "input": [
      "fits.info('random_array3.fits')"
     ],
     "language": "python",
     "metadata": {},
     "outputs": [
      {
       "output_type": "stream",
       "stream": "stdout",
       "text": [
        "Filename: random_array3.fits\n",
        "No.    Name         Type      Cards   Dimensions   Format\n",
        "0    PRIMARY     PrimaryHDU       5   ()              \n",
        "1                ImageHDU         7   (128, 128)   float64   \n",
        "2                ImageHDU         7   (256, 256)   float64   \n"
       ]
      }
     ],
     "prompt_number": 65
    },
    {
     "cell_type": "markdown",
     "metadata": {},
     "source": [
      "Convenience functions\n",
      "---------------------\n",
      "\n",
      "Like `fits.info`, a few other shortcut \"convenience\" functions are provided.  For example, in cases where you just want to access the data or header in a specific HDU, you can use the following convenience functions:"
     ]
    },
    {
     "cell_type": "code",
     "collapsed": false,
     "input": [
      "data = fits.getdata('http://star.herts.ac.uk/~gb/python/656nmos.fits')\n",
      "header = fits.getheader('http://star.herts.ac.uk/~gb/python/656nmos.fits')"
     ],
     "language": "python",
     "metadata": {},
     "outputs": [],
     "prompt_number": 10
    },
    {
     "cell_type": "markdown",
     "metadata": {},
     "source": [
      "To get the data or header for an HDU other than the first, you can specify the\n",
      "extension name or index:"
     ]
    },
    {
     "cell_type": "code",
     "collapsed": false,
     "input": [
      "data = fits.getdata(\"http://star.herts.ac.uk/~gb/python/656nmos.fits\", ext=1)"
     ],
     "language": "python",
     "metadata": {},
     "outputs": [],
     "prompt_number": 12
    },
    {
     "cell_type": "markdown",
     "metadata": {},
     "source": [
      "and similarly for ``getheader``.  The documentation provides [a list](http://docs.astropy.org/en/stable/io/fits/api/files.html#writeto) of other such functions."
     ]
    }
   ],
   "metadata": {}
  }
 ]
}