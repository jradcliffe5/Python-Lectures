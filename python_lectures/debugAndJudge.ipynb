{
 "cells": [
  {
   "cell_type": "markdown",
   "metadata": {
    "deletable": true,
    "editable": true
   },
   "source": [
    "# Debug and judge"
   ]
  },
  {
   "cell_type": "markdown",
   "metadata": {
    "deletable": true,
    "editable": true
   },
   "source": [
    "Let's try to do a few easy things so that you can practice what you have learned.\n",
    "\n",
    "First, let's look at another python function: **reduce( )**. Let's say you want to to calculate the product of a list of numbers. Normally, you can do a for-loop that goes through each item and outputs the result.\n",
    "\n",
    "Below, I have written some code that implements this simple idea. It has, however, a number of bugs and wrong code in it that you should correct. If you have corrected the code, you should see the follwing output:\n",
    "\n",
    "\n",
    "```\n",
    "[1,2,3,4,5,6,7,8,9,10]\n",
    "Product of list is:  3628800\n",
    "```\n",
    "\n",
    "**Hint:** There are four mistakes in the code. "
   ]
  },
  {
   "cell_type": "code",
   "execution_count": null,
   "metadata": {
    "collapsed": false,
    "deletable": true,
    "editable": true
   },
   "outputs": [],
   "source": [
    "# our data as created by a list from 1 to 10\n",
    "data = range(1,10)\n",
    "print(data)\n",
    "\n",
    "# initialize variable\n",
    "product = 0\n",
    "\n",
    "# do for-loop\n",
    "for d in data\n",
    "    product = product * d\n",
    "\n",
    "# print out result\n",
    "print('Product of list is: ',product)"
   ]
  },
  {
   "cell_type": "markdown",
   "metadata": {
    "deletable": true,
    "editable": true
   },
   "source": [
    "Now, let's use the **reduce( )** function for this in connection with a **lambda** function that we define on the elements. **reduce( )** uses two inputs: first, a function and, second, the data that the function is applied to. The end-result will be one single, reduced element that is the result of the function on the data. \n",
    "\n",
    "The **reduce( )** function is part of a package, which we need to import first. I have written the import statement below. It is, however, not correct. Correct this:"
   ]
  },
  {
   "cell_type": "code",
   "execution_count": null,
   "metadata": {
    "collapsed": true,
    "deletable": true,
    "editable": true
   },
   "outputs": [],
   "source": [
    "from functool import reduce"
   ]
  },
  {
   "cell_type": "markdown",
   "metadata": {
    "deletable": true,
    "editable": true
   },
   "source": [
    "Once you have this corrected, let me give you an example of the use of **reduce( )**"
   ]
  },
  {
   "cell_type": "code",
   "execution_count": null,
   "metadata": {
    "collapsed": false,
    "deletable": true,
    "editable": true
   },
   "outputs": [],
   "source": [
    "print(reduce(lambda x,y: x+y, [1,2,3,4]))"
   ]
  },
  {
   "cell_type": "markdown",
   "metadata": {
    "deletable": true,
    "editable": true
   },
   "source": [
    "So the lambda function has two inputs x and y that come from the repeated application of reduce on the array. The \"previous\" result is x and the \"current\" input y is added to x in each step. So this is equivalent to a for-loop that goes through the list and adds all elements. "
   ]
  },
  {
   "cell_type": "markdown",
   "metadata": {
    "deletable": true,
    "editable": true
   },
   "source": [
    "Back to our example! We now need to define a lambda function that takes each element of our data array and produces a multiplication. Correct the following example:"
   ]
  },
  {
   "cell_type": "code",
   "execution_count": null,
   "metadata": {
    "collapsed": false,
    "deletable": true,
    "editable": true
   },
   "outputs": [],
   "source": [
    "print('Product of list is: ',reduce(lambda x: x*x,data))"
   ]
  },
  {
   "cell_type": "markdown",
   "metadata": {
    "deletable": true,
    "editable": true
   },
   "source": [
    "We would like to know whether it is actually better to run reduce than to run the for-loop. So let's time the two things. For this, we will use the IPython utility function **timeit** that I showed you a few times already. We will also define a new array of data, which is a little larger."
   ]
  },
  {
   "cell_type": "code",
   "execution_count": null,
   "metadata": {
    "collapsed": false,
    "deletable": true,
    "editable": true
   },
   "outputs": [],
   "source": [
    "def myp(x,y):\n",
    "    return x*y\n",
    "\n",
    "newdata = range(1,200)\n",
    "%timeit reduce(myp,newdata)# insert the code here that times the reduce function!\n",
    "print(reduce(myp,newdata))"
   ]
  },
  {
   "cell_type": "markdown",
   "metadata": {
    "deletable": true,
    "editable": true
   },
   "source": [
    "Alright, now let's time the for-loop. For this, we put this in a function that we call once in order to get the array multiplied. "
   ]
  },
  {
   "cell_type": "code",
   "execution_count": null,
   "metadata": {
    "collapsed": false,
    "deletable": true,
    "editable": true
   },
   "outputs": [],
   "source": [
    "def myproduct(da):\n",
    "    product = 1\n",
    "    for d in da:\n",
    "        product = product * d\n",
    "    return product\n",
    "\n",
    "newdata = range(1,200)\n",
    "%timeit myproduct(newdata)\n",
    "print(myproduct(newdata))"
   ]
  },
  {
   "cell_type": "markdown",
   "metadata": {
    "deletable": true,
    "editable": true
   },
   "source": [
    "Can you interpret the result? Which method is faster??"
   ]
  },
  {
   "cell_type": "markdown",
   "metadata": {
    "collapsed": true,
    "deletable": true,
    "editable": true
   },
   "source": [
    "# More timing - loops\n",
    "\n",
    "In python, general lists can iterated over in several different ways. Just to see how things go, expand the following code to time the three functions I have defined below that show three different types of iteration.\n",
    "\n",
    "```\n",
    "def pythonFor(a):\n",
    "\tfor index, item in enumerate(a): tmp1,tmp2 = index, item\n",
    "\t\n",
    "def cFor(a):\n",
    "\tfor i in range(len(a)): tmp1,tmp2 = i, a[i]\n",
    "\t\n",
    "def numpyFor(a):\n",
    "\tfor i in np.arange(len(a)): tmp1,tmp2 = i, a[i]\n",
    "```"
   ]
  },
  {
   "cell_type": "code",
   "execution_count": 40,
   "metadata": {
    "collapsed": true
   },
   "outputs": [],
   "source": [
    "def pythonFor(a):\n",
    "    for index, item in enumerate(a): tmp1,tmp2 = index, item\n",
    "def cFor(a):\n",
    "    for i in range(len(a)): tmp1,tmp2 = i, a[i]\n",
    "def numpyFor(a):\n",
    "    for i in np.arange(len(a)): tmp1,tmp2 = i, a[i]"
   ]
  },
  {
   "cell_type": "code",
   "execution_count": null,
   "metadata": {
    "collapsed": true
   },
   "outputs": [],
   "source": []
  }
 ],
 "metadata": {
  "kernelspec": {
   "display_name": "Python 3",
   "language": "python",
   "name": "python3"
  },
  "language_info": {
   "codemirror_mode": {
    "name": "ipython",
    "version": 3
   },
   "file_extension": ".py",
   "mimetype": "text/x-python",
   "name": "python",
   "nbconvert_exporter": "python",
   "pygments_lexer": "ipython3",
   "version": "3.5.1"
  }
 },
 "nbformat": 4,
 "nbformat_minor": 2
}
