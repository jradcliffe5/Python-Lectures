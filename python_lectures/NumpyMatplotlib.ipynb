{
 "cells": [
  {
   "cell_type": "markdown",
   "metadata": {
    "deletable": true,
    "editable": true
   },
   "source": [
    "# Numpy: Ouch\n",
    "What is the difference between the two types of code?"
   ]
  },
  {
   "cell_type": "code",
   "execution_count": null,
   "metadata": {
    "collapsed": false,
    "deletable": true,
    "editable": true
   },
   "outputs": [],
   "source": [
    "import numpy as np\n",
    "a = np.array([1, 2, 3, 4, 5])\n",
    "b = a[1:4]\n",
    "b[0] = 200\n",
    "\n",
    "\n",
    "a2 = [1, 2, 3, 4, 5]\n",
    "b2 = a2[1:4]\n",
    "b2[0] = 200\n"
   ]
  },
  {
   "cell_type": "markdown",
   "metadata": {
    "deletable": true,
    "editable": true
   },
   "source": [
    "# Matplotlib\n",
    "\n",
    "Let's make a simple example of the fourier transform to get us started in image processing in python / matplotlib.\n",
    "\n",
    "Correct and augment the code below. If you got this right, you should see the following figure:\n"
   ]
  },
  {
   "cell_type": "code",
   "execution_count": null,
   "metadata": {
    "collapsed": false,
    "deletable": true,
    "editable": true
   },
   "outputs": [],
   "source": [
    "from IPython.display import Image\n",
    "Image(filename='images/fft2Example.png')"
   ]
  },
  {
   "cell_type": "code",
   "execution_count": null,
   "metadata": {
    "collapsed": false,
    "deletable": true,
    "editable": true
   },
   "outputs": [],
   "source": [
    "# import matplotlib here\n",
    "\n",
    "\n",
    "# create a meshgrid of x-values with a numpy range variable from 0-199 and x-values from 0-199\n",
    "[X, Y] = np.meshgrid(2 * np.pi * NUMPYRANGE / 12, 2 * np.pi * NUMPYRANGE / 34)\n",
    "\n",
    "# now we add the two signals together and add some random Gaussian noise which has the shape of the X array \n",
    "# and a mean of 0 and a standard deviation of 1\n",
    "\n",
    "S = np.sin(X) + np.cos(Y) + np.random.normal(PARAMETERS)\n",
    "\n",
    "# now we perform the FFT\n",
    "FS = np.fft.fftn(S)\n",
    "\n",
    "# make a plot with two subplots next to each other (similar to Matlab)\n",
    "plt.sub...\n",
    "plt.imshow(S)\n",
    "plt.sub...\n",
    "\n",
    "# now we plot the logarithm of the absolute value of the fftshifted fourier variable\n",
    "plt.imshow()\n",
    "\n",
    "# and we should not forget to show the figure"
   ]
  },
  {
   "cell_type": "markdown",
   "metadata": {
    "collapsed": true,
    "deletable": true,
    "editable": true
   },
   "source": [
    "# Reading xlsx-files\n",
    "\n",
    "Reading in files and converting the data to something usable is one of the most important tasks in data mining and machine learning. In this little exercise, you get to read in data from an Excel file using the **pandas** library. If you don't have it already, just do\n",
    "\n",
    "``pip3 install pandas xlrd``\n",
    "\n",
    "The file is in ``data/stats_example.xlsx`` and contains summarized data from an eye-tracking experiment in which participants had to look at six different slides (0-5) in two conditions (blue and normal). We measured their eye movements and extracted information about saccades (4 different measures) and fixations (2 different measures).\n",
    "\n",
    "Please open it in Excel (or OpenOffice) and have a look. As you can see, it has tons of information about different participants. It starts out with summarized information that is gathered from the data below. Starting in row 112, the data that I am interested in, begins.\n",
    "\n",
    "Each row contains 9 values:\n",
    "* subject (participant name)\n",
    "* slidenr (0-5)\n",
    "* datatype (sac or fix)\n",
    "* variable (dur, len, vel, acc for sac | dur, disp for fix)\n",
    "* condition (blue or normal)\n",
    "* min\tQ1\tmedian\tQ3\tmax (5-number summary for the data)\n",
    "\n",
    "Your task in this exercise will be to read in the file and give me the average median fixation duration of all 34 participants.\n",
    "\n",
    "Note that the file contains \"NaNs\" - you need to deal with them (remember how in Matlab??)\n",
    "\n",
    "There are two main ways to do this, and I want you to implement BOTH:\n",
    "\n",
    "1) the hackish way using the sorted data in the excel-file: for this, simply take a look at the excel data and check which of the rows correspond to fixation durations\n",
    "\n",
    "2) the \"proper\" way using the power of **pandas**: for this, note that **pandas** gives you a new data structure, a **DataFrame** as the result of the import command. This data structure has a very useful function called **query()**. Check out the help for this function and design the proper query that gets you the fixation durations. This is by far the most powerful method!\n",
    "\n",
    "Finally, we are going to plot the medians of the fixation durations in a violin plot - this plot tries to estimate the distribution of the values and is an excellent way to see how well your data is adhering to, for example, a normal distribution. We are, of course, going to use Matplotlib for this!\n"
   ]
  },
  {
   "cell_type": "code",
   "execution_count": null,
   "metadata": {
    "collapsed": false
   },
   "outputs": [],
   "source": [
    "import pandas\n",
    "# do we need more imports?\n",
    "\n",
    "# read in excel file\n",
    "file = pandas.read_excel('data/stats_example.xlsx') # this will need to be changed\n",
    "\n",
    "# the average median fixation duration is around 190ms\n",
    "# there are two main ways to get this information:\n",
    "#     1. the hackish way using the indices in the file\n",
    "#        if you take a look at the excel file, you can\n",
    "#       see that the conditions are sorted regularly\n",
    "\n",
    "print('Mean fixation duration using hackish way is ',) # result of first hackish way\n",
    "\n",
    "#     2. the \"good\" way using the power of pandas query()\n",
    "#        command. Take a look at the help and design a\n",
    "#        proper query that gets you the information\n",
    "\n",
    "print('Mean fixation duration using panda query() is ',) # result of first hackish way\n",
    "\n",
    "# good, good - now let's produce a violinplot of the median\n",
    "# values using matplotlib. For this, use the following code\n",
    "# taking care to replace \"data\" with the correct fixation\n",
    "# duration values!\n",
    "data=np.array([0])\n",
    "plt.violinplot(data, points=40, widths=0.5,showmeans=True, showextrema=True, showmedians=True)\n",
    "plt.title('Violinplot of medians of fixation durations')\n",
    "plt.show()\n"
   ]
  },
  {
   "cell_type": "code",
   "execution_count": null,
   "metadata": {
    "collapsed": true
   },
   "outputs": [],
   "source": []
  }
 ],
 "metadata": {
  "kernelspec": {
   "display_name": "Python 3",
   "language": "python",
   "name": "python3"
  },
  "language_info": {
   "codemirror_mode": {
    "name": "ipython",
    "version": 3
   },
   "file_extension": ".py",
   "mimetype": "text/x-python",
   "name": "python",
   "nbconvert_exporter": "python",
   "pygments_lexer": "ipython3",
   "version": "3.5.1"
  }
 },
 "nbformat": 4,
 "nbformat_minor": 2
}
